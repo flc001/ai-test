{
 "cells": [
  {
   "cell_type": "code",
   "execution_count": 2,
   "metadata": {},
   "outputs": [],
   "source": [
    "import numpy as np\n",
    "\n",
    "x = np.array([1,2,3,4,5])#一位数组"
   ]
  },
  {
   "cell_type": "code",
   "execution_count": 3,
   "metadata": {
    "scrolled": true
   },
   "outputs": [
    {
     "name": "stdout",
     "output_type": "stream",
     "text": [
      "[1 2 3 4 5]\n",
      "<class 'numpy.ndarray'>\n"
     ]
    }
   ],
   "source": [
    "print(x)\n",
    "print(type(x))#<class 'numpy.ndarray'>"
   ]
  },
  {
   "cell_type": "code",
   "execution_count": 4,
   "metadata": {},
   "outputs": [
    {
     "data": {
      "text/plain": [
       "dtype('int64')"
      ]
     },
     "execution_count": 4,
     "metadata": {},
     "output_type": "execute_result"
    }
   ],
   "source": [
    "#numpy的数组有些很实用的属性 dtype\n",
    "x.dtype\n",
    "#注意 dtype和数组本身的数据类型不同\n",
    "#dtype('int64') dtype告诉我们 ndarray存放的数有符号的64位整数\n",
    "\n",
    "#可以处理的类型比py多 是numpy的一大优势"
   ]
  },
  {
   "cell_type": "code",
   "execution_count": 9,
   "metadata": {},
   "outputs": [
    {
     "name": "stdout",
     "output_type": "stream",
     "text": [
      "(5,)\n",
      "(4,)\n",
      "(4, 3)\n",
      "4\n",
      "12\n"
     ]
    }
   ],
   "source": [
    "#shape  返回一个由n个正整数组成的元组\n",
    "print(x.shape) #(5,） 说明数组每个维度大小中 其中n为数组的维度\n",
    "\n",
    "#二维的 \n",
    "y1 = np.array([[1,2,3],[4,5,6],[7,8,9],[10,11,12,13]])\n",
    "y2 = np.array([[1,2,3],[4,5,6],[7,8,9],[10,11,12]])\n",
    "print(y1.shape)#(4,) array里面的元素全部都是数组 并且每个数组长度一样 才会是二维\n",
    "print(y2.shape)#(4, 3) 有两个元素 所以y有两个维度\n",
    "\n",
    "print(y1.size)\n",
    "print(y2.size)\n"
   ]
  },
  {
   "cell_type": "code",
   "execution_count": 27,
   "metadata": {},
   "outputs": [
    {
     "name": "stdout",
     "output_type": "stream",
     "text": [
      "dtype <U6\n",
      "dtype <U21\n"
     ]
    }
   ],
   "source": [
    "#如果array里面存着字符串\n",
    "str_arr = np.array(['Hello','World','abcabc'])\n",
    "print('dtype',str_arr.dtype)#dtype <U76这里的6指的数组里面 最长的字符或者数字的长度\n",
    "\n",
    "#会把数字转成成数字字符串\n",
    "mix_arr = np.array([2,111,'helloa','aaassssss'])\n",
    "print('dtype',mix_arr.dtype)#21个字符组成的unicode"
   ]
  },
  {
   "cell_type": "code",
   "execution_count": 31,
   "metadata": {},
   "outputs": [
    {
     "name": "stdout",
     "output_type": "stream",
     "text": [
      "[1.  2.5 4.  6. ] float64\n",
      "[1 2 3 5] int64\n"
     ]
    }
   ],
   "source": [
    "#如果出现整数和浮点数  会全部转成浮点数 🔼转型\n",
    "float_int_arr = np.array([1,2.5,4,6])\n",
    "print(float_int_arr,float_int_arr.dtype)\n",
    "\n",
    "#也可以强行向下转型 全部转变成整型\n",
    "arr2 = np.array([1,2.9,3,5],dtype=np.int64)\n",
    "print(arr2,arr2.dtype)"
   ]
  },
  {
   "cell_type": "markdown",
   "metadata": {},
   "source": [
    "# numpy使用内置函数创建ndarray"
   ]
  },
  {
   "cell_type": "code",
   "execution_count": 40,
   "metadata": {},
   "outputs": [
    {
     "name": "stdout",
     "output_type": "stream",
     "text": [
      "np.zeros\n",
      "[[0. 0. 0. 0.]\n",
      " [0. 0. 0. 0.]\n",
      " [0. 0. 0. 0.]]\n",
      "np.ones\n",
      "[[1 1 1 1 1]\n",
      " [1 1 1 1 1]\n",
      " [1 1 1 1 1]\n",
      " [1 1 1 1 1]]\n",
      "np.full\n",
      "[[5 5 5]\n",
      " [5 5 5]\n",
      " [5 5 5]\n",
      " [5 5 5]]\n",
      "np.eye\n",
      "[[1. 0. 0. 0. 0. 0.]\n",
      " [0. 1. 0. 0. 0. 0.]\n",
      " [0. 0. 1. 0. 0. 0.]\n",
      " [0. 0. 0. 1. 0. 0.]\n",
      " [0. 0. 0. 0. 1. 0.]\n",
      " [0. 0. 0. 0. 0. 1.]]\n",
      "np.diag\n",
      "[[10  0  0  0]\n",
      " [ 0 22  0  0]\n",
      " [ 0  0 35  0]\n",
      " [ 0  0  0 76]]\n"
     ]
    }
   ],
   "source": [
    "#numpy不仅可以传入list转化成ndarray 也能使用内置函数创建\n",
    "x0 = np.zeros((3,4))#创建二维数组 长度为3  每个元素是长度为4的list\n",
    "#填充0\n",
    "print('np.zeros')\n",
    "print(x0)#填充0\n",
    "#默认每一项是小数 可以强行转换成整数\n",
    "\n",
    "#填充1\n",
    "x1 = np.ones((4,5),dtype=np.int64)\n",
    "print('np.ones')\n",
    "print(x1)\n",
    "\n",
    "#填充其他\n",
    "x5 = np.full((4,3),5)\n",
    "print('np.full')\n",
    "print(x5)\n",
    "\n",
    "#线性代数有一种基础数组叫做单位矩阵(identity matrix) \n",
    "#就是指横纵排列的二维数组\n",
    "\n",
    "x_m = np.eye(6) #单位矩阵是方形的 只能接收一个单精度整数参数\n",
    "#得到一个6x6的单位矩阵\n",
    "print('np.eye')\n",
    "print(x_m)#左上角第一个 到右下角最后一个 对角线位置的值为1 其他位置为0\n",
    "\n",
    "#还能使用diag 接收一个数组 数组的长度为L 则得到一个LXL的矩阵\n",
    "x_d = np.diag([10,22,35,76])\n",
    "print('np.diag')\n",
    "print(x_d)\n"
   ]
  },
  {
   "cell_type": "code",
   "execution_count": 45,
   "metadata": {},
   "outputs": [
    {
     "name": "stdout",
     "output_type": "stream",
     "text": [
      "a1 = [0 1 2 3 4 5 6 7]\n",
      "x =  [ 1  4  7 10 13]\n",
      "a2 =  [1 2 3 4 5 6 7]\n",
      "x has dimensions: (5,)\n",
      "x is an object of type: <class 'numpy.ndarray'>\n",
      "The elements in x are of type: int64\n",
      "----linspace----\n",
      "[ 0.          2.77777778  5.55555556  8.33333333 11.11111111 13.88888889\n",
      " 16.66666667 19.44444444 22.22222222 25.        ]\n",
      "[ 0.   2.5  5.   7.5 10.  12.5 15.  17.5 20.  22.5]\n"
     ]
    }
   ],
   "source": [
    "#numpy可以生成特定数值范围的数组 arrange 创建给定区间的等差数组\n",
    "a1 = np.arange(8)#a1 = [0 1 2 3 4 5 6 7]\n",
    "a2 = np.arange(1,8)#a2 =  [1 2 3 4 5 6 7]\n",
    "x = np.arange(1,14,3)#x =  [ 1  4  7 10 13] \n",
    "#arange 的第三个参数给等差的值 也是整数 也可以是小数 ，但不推荐用arange\n",
    "#使用linspace\n",
    "\n",
    "# We print the ndarray\n",
    "print('a1 =',a1)\n",
    "print('x = ', x)\n",
    "print('a2 = ',a2)\n",
    "\n",
    "# We print information about the ndarray\n",
    "print('x has dimensions:', x.shape)\n",
    "print('x is an object of type:', type(x))\n",
    "print('The elements in x are of type:', x.dtype) \n",
    "\n",
    "print('----linspace----')#至少要两个参数 没有\n",
    "x_lin = np.linspace(0,25,10)\n",
    "x_lin1 = np.linspace(0,25,10,endpoint = False)\n",
    "#因为从0 开始 25结束  起始和终止都在数组里面 可以不包含终止值\n",
    "#[ 0.          2.77777778  5.55555556  8.33333333 11.11111111 13.88888889 16.66666667 19.44444444 22.22222222 25.        ]\n",
    "\n",
    "print(x_lin)\n",
    "print(x_lin1)\n",
    "\n"
   ]
  },
  {
   "cell_type": "code",
   "execution_count": 49,
   "metadata": {},
   "outputs": [
    {
     "name": "stdout",
     "output_type": "stream",
     "text": [
      "[[ 0  1  2]\n",
      " [ 3  4  5]\n",
      " [ 6  7  8]\n",
      " [ 9 10 11]]\n",
      "[[ 0.  5.]\n",
      " [10. 15.]\n",
      " [20. 25.]\n",
      " [30. 35.]\n",
      " [40. 45.]]\n"
     ]
    }
   ],
   "source": [
    "# linspace和arange不仅可以创建一维数组 还能创建二维\n",
    "#结合reshape\n",
    "x1 = np.reshape(np.arange(12),(4,3))\n",
    "print(x1)\n",
    "'''\n",
    "但是 不能改变成x*y不等于 原来一位数组的总长度\n",
    "[[ 0  1  2]\n",
    " [ 3  4  5]\n",
    " [ 6  7  8]\n",
    " [ 9 10 11]]\n",
    " \n",
    " numpy函数可以连起来写 链式操作\n",
    "'''\n",
    "\n",
    "x_lin2 = np.linspace(0,50,10,endpoint = False).reshape(5,2)\n",
    "print(x_lin2)"
   ]
  },
  {
   "cell_type": "code",
   "execution_count": 62,
   "metadata": {},
   "outputs": [
    {
     "name": "stdout",
     "output_type": "stream",
     "text": [
      "[[0.00536209 0.33995116 0.24372392 0.79636383]\n",
      " [0.26382324 0.23207582 0.5268261  0.94536737]\n",
      " [0.93105786 0.03092731 0.4572357  0.37395795]]\n",
      "[[8 7 6 9]\n",
      " [9 4 5 5]\n",
      " [8 3 3 7]]\n",
      "平均值 0.00013516993505191064\n",
      "标准差 0.09986853716858174\n",
      "最小值 -0.49018355229414123\n",
      "最大值 0.4492170387131513\n"
     ]
    }
   ],
   "source": [
    "#在机器学习中经常有需要创建随机矩阵的时候\n",
    "#比如初始化神经网络的权重\n",
    "#np.random 访问该模块 再访问里面的random函数\n",
    "x_random = np.random.random((3,4))\n",
    "print(x_random)#都是随机的小数 0-1\n",
    "\n",
    "#3-9的随机数\n",
    "x_random_int = np.random.randint(3,10,(3,4))\n",
    "print(x_random_int)\n",
    "\n",
    "#平均值0 标准差为0.1的正态分布\n",
    "x_normal = np.random.normal(0,0.1,(1000,1000))\n",
    "print('平均值',x_normal.mean());\n",
    "print('标准差',x_normal.std());\n",
    "print('最小值',x_normal.min());\n",
    "print('最大值',x_normal.max());\n",
    "#最小值加最大值等于平均值0\n",
    "#正数和负数也差不多"
   ]
  },
  {
   "cell_type": "markdown",
   "metadata": {},
   "source": [
    "# 访问和删除 ndarray 中的元素及向其中插入元素"
   ]
  },
  {
   "cell_type": "code",
   "execution_count": 64,
   "metadata": {},
   "outputs": [
    {
     "name": "stdout",
     "output_type": "stream",
     "text": [
      "[ 1  2  3 28  5]\n",
      "[[1 2 3]\n",
      " [4 5 6]\n",
      " [7 8 9]]\n",
      "8\n",
      "7\n"
     ]
    }
   ],
   "source": [
    "#numpy数组是可变的(mutable) numpy数组有很多种切片方式\n",
    "x = np.array([1,2,3,4,5])\n",
    "#修改ndarray里面某个值\n",
    "x[3] = 28\n",
    "print(x)\n",
    "\n",
    "x2 = np.arange(1,10).reshape(3,3)\n",
    "\n",
    "print(x2)\n",
    "#两种查找二维数组中某个值的方法\n",
    "print(x2[2,1])\n",
    "print(x2[2][0])\n",
    "\n"
   ]
  },
  {
   "cell_type": "code",
   "execution_count": 76,
   "metadata": {},
   "outputs": [
    {
     "name": "stdout",
     "output_type": "stream",
     "text": [
      "[[2 3]\n",
      " [5 6]\n",
      " [8 9]]\n",
      "[[4 5 6]\n",
      " [7 8 9]]\n",
      "[[ 1  2  3]\n",
      " [ 4  5  6]\n",
      " [ 7  8  9]\n",
      " [20 30 40]]\n",
      "[ 1  2  3  4  5  6  7  8  9 11 12]\n"
     ]
    }
   ],
   "source": [
    "y1 = np.arange(1,10).reshape(3,3)\n",
    "print(np.delete(y1,0,axis=1))#删掉一纵行 每个List里面的第一个\n",
    "print(np.delete(y1,0,axis=0))#删掉一横行\n",
    "\n",
    "new_y1 = np.append(y1,[[20,30,40]],axis=0)\n",
    "print(new_y1)\n",
    "\n",
    "y2 = np.arange(1,10)\n",
    "new_y2 = np.append(y2,[11,12])\n",
    "print(new_y2)"
   ]
  },
  {
   "cell_type": "code",
   "execution_count": 79,
   "metadata": {},
   "outputs": [
    {
     "name": "stdout",
     "output_type": "stream",
     "text": [
      "[ 1  2  5 22 33  6  9]\n",
      "y: [[1 2 3]\n",
      " [7 8 9]]\n",
      "w: [[1 2 3]\n",
      " [4 5 6]\n",
      " [7 8 9]]\n",
      "v: [[  1 123   2   3]\n",
      " [  7 123   8   9]]\n"
     ]
    }
   ],
   "source": [
    "#append是在尾部追加一个 中间插入则是insert\n",
    "x = np.array([1,2,5,6,9])\n",
    "#第二个参数是插到原数组哪一个的后面 从1开始数的\n",
    "x = np.insert(x,3,[22,33])\n",
    "print(x)\n",
    "\n",
    "\n",
    "#二维数组的插入\n",
    "y = np.array([[1,2,3],[7,8,9]])\n",
    "w = np.insert(y,1,[4,5,6],axis=0)\n",
    "v = np.insert(y,1,123,axis=1)\n",
    "\n",
    "print('y:',y)\n",
    "print('w:',w)\n",
    "print('v:',v)\n",
    "\n",
    "\n",
    "#py可以用vstack进行垂直堆叠 hstack进行水平堆叠\n",
    "\n"
   ]
  },
  {
   "cell_type": "code",
   "execution_count": 80,
   "metadata": {},
   "outputs": [
    {
     "name": "stdout",
     "output_type": "stream",
     "text": [
      "\n",
      "x =  [1 2]\n",
      "\n",
      "Y = \n",
      " [[3 4]\n",
      " [5 6]]\n",
      "\n",
      "z = \n",
      " [[1 2]\n",
      " [3 4]\n",
      " [5 6]]\n",
      "\n",
      "w = \n",
      " [[3 4 1]\n",
      " [5 6 2]]\n"
     ]
    }
   ],
   "source": [
    "# We create a rank 1 ndarray \n",
    "x = np.array([1,2])\n",
    "\n",
    "# We create a rank 2 ndarray \n",
    "Y = np.array([[3,4],[5,6]])\n",
    "\n",
    "# We print x\n",
    "print()\n",
    "print('x = ', x)\n",
    "\n",
    "# We print Y\n",
    "print()\n",
    "print('Y = \\n', Y)\n",
    "\n",
    "# We stack x on top of Y\n",
    "z = np.vstack((x,Y))\n",
    "\n",
    "# We stack x on the right of Y. We need to reshape x in order to stack it on the right of Y. \n",
    "w = np.hstack((Y,x.reshape(2,1)))\n",
    "\n",
    "# We print z\n",
    "print()\n",
    "print('z = \\n', z)\n",
    "\n",
    "# We print w\n",
    "print()\n",
    "print('w = \\n', w)"
   ]
  },
  {
   "cell_type": "markdown",
   "metadata": {},
   "source": [
    "# ndarray的切片 "
   ]
  },
  {
   "cell_type": "code",
   "execution_count": 82,
   "metadata": {},
   "outputs": [
    {
     "name": "stdout",
     "output_type": "stream",
     "text": [
      "[[ 0  1  2  3  4]\n",
      " [ 5  6  7  8  9]\n",
      " [10 11 12 13 14]\n",
      " [15 16 17 18 19]]\n",
      "Z = \n",
      " [[ 7  8  9]\n",
      " [12 13 14]\n",
      " [17 18 19]]\n"
     ]
    }
   ],
   "source": [
    "'''\n",
    "    常见三种切片\n",
    "    [start:end]\n",
    "    [start:]\n",
    "    [:end]\n",
    "'''\n",
    "\n",
    "X = np.arange(20).reshape(4, 5)\n",
    "Z = X[1:4,2:5]\n",
    "print(X)#1:4 找到 从下标为1找到正数第四个 \n",
    "print('Z = \\n', Z)\n",
    "\n"
   ]
  },
  {
   "cell_type": "code",
   "execution_count": 83,
   "metadata": {},
   "outputs": [
    {
     "name": "stdout",
     "output_type": "stream",
     "text": [
      "\n",
      "X = \n",
      " [[ 0  1  2  3  4]\n",
      " [ 5  6  7  8  9]\n",
      " [10 11 12 13 14]\n",
      " [15 16 17 18 19]]\n",
      "\n",
      "\n",
      "Z = \n",
      " [[ 7  8  9]\n",
      " [12 13 14]\n",
      " [17 18 19]]\n",
      "\n",
      "\n",
      "X = \n",
      " [[  0   1   2   3   4]\n",
      " [  5   6   7   8   9]\n",
      " [ 10  11  12  13  14]\n",
      " [ 15  16  17  18 555]]\n",
      "\n"
     ]
    }
   ],
   "source": [
    "X = np.arange(20).reshape(4, 5)\n",
    "\n",
    "# We print X\n",
    "print()\n",
    "print('X = \\n', X)\n",
    "print()\n",
    "\n",
    "# We select all the elements that are in the 2nd through 4th rows and in the 3rd to 4th columns\n",
    "Z = X[1:4,2:5]\n",
    "\n",
    "# We print Z\n",
    "print()\n",
    "print('Z = \\n', Z)\n",
    "print()\n",
    "\n",
    "#如果修改z里面某个值 原数组x里面也会被修改\n",
    "# We change the last element in Z to 555\n",
    "Z[2,2] = 555\n",
    "\n",
    "# We print X\n",
    "print()\n",
    "print('X = \\n', X)\n",
    "print()"
   ]
  },
  {
   "cell_type": "code",
   "execution_count": 91,
   "metadata": {},
   "outputs": [
    {
     "name": "stdout",
     "output_type": "stream",
     "text": [
      "\n",
      "X = \n",
      " [[ 0  1  2  3  4]\n",
      " [ 5  6  7  8  9]\n",
      " [10 11 12 13 14]\n",
      " [15 16 17 18 19]]\n",
      "\n",
      "\n",
      "X = \n",
      " [[ 0  1  2  3  4]\n",
      " [ 5  6  7  8  9]\n",
      " [10 11 12 13 14]\n",
      " [15 16 17 18 19]]\n",
      "\n",
      "Z = \n",
      " [[  7   8   9]\n",
      " [ 12  13  14]\n",
      " [ 17  18 555]]\n",
      "\n",
      "W = \n",
      " [[  7   8   9]\n",
      " [ 12  13  14]\n",
      " [ 17  18 444]]\n",
      "diag k=0: [  7  13 444]\n",
      "diag k=1: [ 8 14]\n",
      "diag k=-1: [12 18]\n"
     ]
    }
   ],
   "source": [
    "#使用copy可以避免原数组被修改\n",
    "# We create a 4 x 5 ndarray that contains integers from 0 to 19\n",
    "X = np.arange(20).reshape(4, 5)\n",
    "\n",
    "# We print X\n",
    "print()\n",
    "print('X = \\n', X)\n",
    "print()\n",
    "\n",
    "# create a copy of the slice using the np.copy() function\n",
    "Z = np.copy(X[1:4,2:5])\n",
    "\n",
    "#  create a copy of the slice using the copy as a method\n",
    "W = X[1:4,2:5].copy()\n",
    "\n",
    "# We change the last element in Z to 555\n",
    "Z[2,2] = 555\n",
    "\n",
    "# We change the last element in W to 444\n",
    "W[2,2] = 444\n",
    "\n",
    "# We print X\n",
    "print()\n",
    "print('X = \\n', X)\n",
    "\n",
    "# We print Z\n",
    "print()\n",
    "print('Z = \\n', Z)\n",
    "\n",
    "# We print W\n",
    "print()\n",
    "print('W = \\n', W)\n",
    "#diag可以去到对角线的值\n",
    "\n",
    "print('diag k=0:',np.diag(W,k=0))\n",
    "\n",
    "print('diag k=1:',np.diag(W,k=1))\n",
    "\n",
    "print('diag k=-1:',np.diag(W,k=-1))"
   ]
  },
  {
   "cell_type": "code",
   "execution_count": 92,
   "metadata": {},
   "outputs": [
    {
     "name": "stdout",
     "output_type": "stream",
     "text": [
      "[1 2 3 5 8]\n"
     ]
    }
   ],
   "source": [
    "X = np.array([[1,2,3],[5,2,8],[1,2,3]])\n",
    "#unique 找出独一无二的值 返回一个数组\n",
    "print(np.unique(X))"
   ]
  },
  {
   "cell_type": "markdown",
   "metadata": {},
   "source": [
    "# 布尔型索引、集合运算和排序"
   ]
  },
  {
   "cell_type": "code",
   "execution_count": 98,
   "metadata": {},
   "outputs": [
    {
     "name": "stdout",
     "output_type": "stream",
     "text": [
      "[11 12 13 14 15 16 17 18 19 20 21 22 23 24]\n",
      "[ 9 10 11 12 13]\n",
      "[[ 0  1  2  3  4]\n",
      " [ 5  6  7  8 -1]\n",
      " [-1 -1 -1 -1 14]\n",
      " [15 16 17 18 19]\n",
      " [20 21 22 23 24]]\n"
     ]
    }
   ],
   "source": [
    "#如果有一个10000X10000的随机整数数组 1-15000之间\n",
    "#只要小于20\n",
    "x = np.arange(25).reshape(5,5)\n",
    "print(x[x > 10])#返回一个一位数组 这就是布尔表达式\n",
    "\n",
    "#只能是&  &&和and都是错误\n",
    "print(x[(x > 8) & (x < 14)])\n",
    "\n",
    "#可以将在这个取值范围的值全部改变\n",
    "x[(x > 8) & (x < 14)] = -1\n",
    "print(x)"
   ]
  },
  {
   "cell_type": "code",
   "execution_count": 99,
   "metadata": {},
   "outputs": [
    {
     "name": "stdout",
     "output_type": "stream",
     "text": [
      "[2 4]\n",
      "[1 3 5]\n",
      "[1 2 3 4 5 6 7 8]\n"
     ]
    }
   ],
   "source": [
    "# numpy还能进行集合运算\n",
    "#很方便我们比较两个numpy数组\n",
    "x = np.array([1,2,3,4,5])\n",
    "y = np.array([6,7,2,8,4])\n",
    "print(np.intersect1d(x,y))#查找x中和y中都有的元素\n",
    "#[2 4]\n",
    "print(np.setdiff1d(x,y))#x中的元素 如果在y中出现 则删除掉这个元素\n",
    "#[1 3 5]\n",
    "print(np.union1d(x,y))#列出x,y 所有元素"
   ]
  },
  {
   "cell_type": "code",
   "execution_count": 107,
   "metadata": {},
   "outputs": [
    {
     "name": "stdout",
     "output_type": "stream",
     "text": [
      "[8 7 7 4 5 8 2 3 1 2]\n",
      "[1 2 2 3 4 5 7 7 8 8]\n",
      "[1 2 3 4 5 7 8]\n",
      "[[ 2 10  7  2  3 10]\n",
      " [ 9  9 10  7  9  9]\n",
      " [ 8  9  7  4  4  5]\n",
      " [ 9 10  9  4  4  1]\n",
      " [ 5 10  1  1  4  3]]\n",
      "------\n",
      "[[ 2  9  1  1  3  1]\n",
      " [ 5  9  7  2  4  3]\n",
      " [ 8 10  7  4  4  5]\n",
      " [ 9 10  9  4  4  9]\n",
      " [ 9 10 10  7  9 10]]\n",
      "------\n",
      "[[ 2  2  3  7 10 10]\n",
      " [ 7  9  9  9  9 10]\n",
      " [ 4  4  5  7  8  9]\n",
      " [ 1  4  4  9  9 10]\n",
      " [ 1  1  3  4  5 10]]\n"
     ]
    }
   ],
   "source": [
    "#排序 \n",
    "x = np.random.randint(1,11,size=(10,))#一维数组\n",
    "print(x)\n",
    "print(np.sort(x))#排序操作不会删除重复元素\n",
    "print(np.sort(np.unique(x)))\n",
    "\n",
    "#二维数组排序 横向或者纵向\n",
    "x = np.random.randint(1,11,size=(5,6))\n",
    "print(x)\n",
    "print('纵向排列------')\n",
    "print(np.sort(x,axis=0))\n",
    "print('横向排列------')\n",
    "print(np.sort(x,axis=1))"
   ]
  },
  {
   "cell_type": "markdown",
   "metadata": {},
   "source": [
    "# 算术运算和广播"
   ]
  },
  {
   "cell_type": "code",
   "execution_count": 125,
   "metadata": {},
   "outputs": [
    {
     "name": "stdout",
     "output_type": "stream",
     "text": [
      "[ 6  8 10 12]\n",
      "[ 6  8 10 12]\n",
      "相减\n",
      "[-4 -4 -4 -4]\n",
      "相乘\n",
      "[ 5 12 21 32]\n",
      "相除\n",
      "[0.2        0.33333333 0.42857143 0.5       ]\n",
      "[1.         1.41421356 1.73205081 2.        ]\n",
      "[ 2.71828183  7.3890561  20.08553692 54.59815003]\n",
      "[ 1  4  9 16]\n",
      "二维数组所有数的平均值 2.5\n",
      "二维数组所有纵轴的平均值 [2. 3.]\n",
      "二维数组所有横轴的平均值 [1.5 3.5]\n",
      "二维数组所有数的标准差 1.118033988749895\n",
      "二维数组所有数的中位数 2.5\n"
     ]
    }
   ],
   "source": [
    "#NumPy 允许对 ndarray 执行元素级运算以及矩阵运算。\n",
    "x = np.array([1,2,3,4])\n",
    "y = np.array([5,6,7,8])\n",
    "print(x+y)\n",
    "#每个下标对应的相加\n",
    "print(np.add(x,y))\n",
    "print('相减')\n",
    "print(np.subtract(x,y))\n",
    "print('相乘')\n",
    "print(np.multiply(x,y))\n",
    "print('相除')\n",
    "print(np.divide(x,y))\n",
    "#为了完成这些运算 numpy会用一种广播的机制\n",
    "#numpy对应不同形状的数组进行元素算术运算的处理过程\n",
    "\n",
    "print(np.sqrt(x))#求每个值的开方 \n",
    "print(np.exp(x))#求e的几次方 有值绝对 e等于2.71828183\n",
    "print(np.power(x,2))#得到平方\n",
    "\n",
    "\n",
    "#mean求平均值\n",
    "x = np.arange(1,5).reshape(2,2)\n",
    "print('二维数组所有数的平均值',x.mean())\n",
    "print('二维数组所有纵轴的平均值',np.mean(x,axis=0))\n",
    "print('二维数组所有横轴的平均值',x.mean(axis=1))\n",
    "print('二维数组所有数的标准差',np.std(x))\n",
    "print('二维数组所有数的中位数',np.median(x))\n",
    "\n"
   ]
  },
  {
   "cell_type": "code",
   "execution_count": 124,
   "metadata": {},
   "outputs": [
    {
     "name": "stdout",
     "output_type": "stream",
     "text": [
      "[[3]\n",
      " [4]\n",
      " [5]]\n",
      "[[0 1 2]]\n",
      "[[ 0  2  4]\n",
      " [ 3  5  7]\n",
      " [ 6  8 10]]\n"
     ]
    }
   ],
   "source": [
    "#每个值加减乘除\n",
    "print(x+3)\n",
    "\n",
    "x = np.arange(3).reshape(1,3)\n",
    "print(x)\n",
    "y = np.arange(9).reshape(3,3)\n",
    "print(y+x)\n"
   ]
  },
  {
   "cell_type": "code",
   "execution_count": 138,
   "metadata": {},
   "outputs": [
    {
     "name": "stdout",
     "output_type": "stream",
     "text": [
      "[[ 0  1  2  3  4]\n",
      " [ 5  6  7  8  9]\n",
      " [10 11 12 13 14]\n",
      " [15 16 17 18 19]]\n",
      "[ 7.5  8.5  9.5 10.5 11.5]\n",
      "[5.59016994 5.59016994 5.59016994 5.59016994 5.59016994]\n",
      "[[-7.5 -7.5 -7.5 -7.5 -7.5]\n",
      " [-2.5 -2.5 -2.5 -2.5 -2.5]\n",
      " [ 2.5  2.5  2.5  2.5  2.5]\n",
      " [ 7.5  7.5  7.5  7.5  7.5]]\n",
      "[[-1.34164079 -1.34164079 -1.34164079 -1.34164079 -1.34164079]\n",
      " [-0.4472136  -0.4472136  -0.4472136  -0.4472136  -0.4472136 ]\n",
      " [ 0.4472136   0.4472136   0.4472136   0.4472136   0.4472136 ]\n",
      " [ 1.34164079  1.34164079  1.34164079  1.34164079  1.34164079]]\n"
     ]
    }
   ],
   "source": [
    "x = np.arange(20).reshape(4,5)\n",
    "print(x)\n",
    "print(np.mean(x,axis=0))\n",
    "print(np.std(x,axis=0))\n",
    "print(x - np.mean(x,axis=0) )\n",
    "print((x - np.mean(x,axis=0)) / np.std(x,axis=0)  )"
   ]
  }
 ],
 "metadata": {
  "kernelspec": {
   "display_name": "Python [conda env:anaconda3]",
   "language": "python",
   "name": "conda-env-anaconda3-py"
  },
  "language_info": {
   "codemirror_mode": {
    "name": "ipython",
    "version": 3
   },
   "file_extension": ".py",
   "mimetype": "text/x-python",
   "name": "python",
   "nbconvert_exporter": "python",
   "pygments_lexer": "ipython3",
   "version": "3.6.6"
  }
 },
 "nbformat": 4,
 "nbformat_minor": 2
}
