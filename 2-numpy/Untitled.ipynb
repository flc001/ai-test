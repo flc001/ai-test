{
 "cells": [
  {
   "cell_type": "code",
   "execution_count": null,
   "metadata": {},
   "outputs": [],
   "source": [
    "# numpy\n",
    "#维度 一组数据的组织形式 可以在一维方向展开\n",
    "\n",
    "#py里面没有数组类型 \n",
    "'''\n",
    "    列表和数组 表达一组数据的有序结构\n",
    "    区别：列表中每个元素的数据类型可以不通\n",
    "            数组 每个元素数据类型必须相同\n",
    "    numpy是一个强大的开源python科学计算基础库\n",
    "        1.一个强大的n维数组对象 ndarray\n",
    "        2.广播功能函数\n",
    "        3.整合C/C++/Fortran代码的工具\n",
    "        4.线性代数、傅里叶变化、随机数生成等功能\n",
    "    \n",
    "    Numpy是scipy pandas等数据处理或者科学计算库的基础\n",
    "'''\n",
    "#多维数据 2016年大学排名表格和2018年的 为多维 增加了个时间\n",
    "\n",
    "#高维数据 使用键值对组合起来\n",
    "\n"
   ]
  },
  {
   "cell_type": "code",
   "execution_count": 2,
   "metadata": {},
   "outputs": [
    {
     "name": "stdout",
     "output_type": "stream",
     "text": [
      "[729 513 347 225 141]\n"
     ]
    }
   ],
   "source": [
    "import numpy as np\n",
    "#list的运算 是一个元素一个元素计算\n",
    "\n",
    "def npSum():\n",
    "    #np是一个数组进行计算的 计算所有元素\n",
    "    a = np.array([0,1,2,3,4])#使用np.array生成一个ndarray数组\n",
    "    b = np.array([9,8,7,6,5])\n",
    "    #维度相同时 可以直接进行计算\n",
    "    c = a**2 + b**3\n",
    "    #数组对象可以去到元素之间运算所需要的循环 使一维向量更像单个数据\n",
    "    #numpy的底层是c完成 非常高效   数组对象采用相同的数据类型 有助于节省运算好存储空间\n",
    "    return c\n",
    "print(npSum())\n",
    "\n",
    "#itemsize ndarray对象中每个元素的大小 以字节为单位"
   ]
  },
  {
   "cell_type": "code",
   "execution_count": 3,
   "metadata": {},
   "outputs": [
    {
     "name": "stdout",
     "output_type": "stream",
     "text": [
      "(2,)\n",
      "object\n"
     ]
    }
   ],
   "source": [
    "x = np.array([\n",
    "    [1,2,3,4,5],\n",
    "    [6,7,8,9]\n",
    "])\n",
    "\n",
    "print(x.shape)#(2,)\n",
    "print(x.dtype)#object ndarray可以包含非同质的 非同质的ndarray为对象类型"
   ]
  }
 ],
 "metadata": {
  "kernelspec": {
   "display_name": "Python [conda env:anaconda3]",
   "language": "python",
   "name": "conda-env-anaconda3-py"
  },
  "language_info": {
   "codemirror_mode": {
    "name": "ipython",
    "version": 3
   },
   "file_extension": ".py",
   "mimetype": "text/x-python",
   "name": "python",
   "nbconvert_exporter": "python",
   "pygments_lexer": "ipython3",
   "version": "3.6.6"
  }
 },
 "nbformat": 4,
 "nbformat_minor": 2
}
