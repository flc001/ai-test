{
 "cells": [
  {
   "cell_type": "code",
   "execution_count": 1,
   "metadata": {},
   "outputs": [],
   "source": [
    "# 直方图 最容易观察到的是数据异常值\n",
    "'''\n",
    "如果数据有很明显的倾斜 可能要改变一下数据绘制空间 把有趣的部分放大\n",
    "'''\n",
    "\n",
    "import numpy as np\n",
    "import pandas as pd\n",
    "import matplotlib.pyplot as plt\n",
    "import seaborn as sb#seaborn另一个简写是sns\n",
    "\n",
    "%matplotlib inline\n"
   ]
  },
  {
   "cell_type": "code",
   "execution_count": 10,
   "metadata": {},
   "outputs": [
    {
     "data": {
      "image/png": "[encoded data removed]",
      "text/plain": [
       "<Figure size 432x288 with 1 Axes>"
      ]
     },
     "metadata": {},
     "output_type": "display_data"
    }
   ],
   "source": [
    "#统计精灵的身高 \n",
    "\n",
    "pokemon = pd.read_csv('./data/pokemon.csv')\n",
    "\n",
    "bins = np.arange(0,pokemon['height'].max()+0.2,0.2)\n",
    "plt.hist(data = pokemon ,x = 'height',bins = bins);\n",
    "#很明显 数据向右偏移 大于6m的数据很少\n",
    "\n",
    "#放大数据的主要部分\n",
    "#呈现在图标的分组的上线和下线 接收参数 两个值组成的元组 指定了范围\n",
    "plt.xlim((0,6));#发现 在0-1的中间 突然变得很小 然后在增加\n",
    "\n",
    "#得出结论 大部分精灵比人类矮 "
   ]
  },
  {
   "cell_type": "code",
   "execution_count": 21,
   "metadata": {},
   "outputs": [
    {
     "data": {
      "text/plain": [
       "count    2.906874\n",
       "mean     1.790786\n",
       "std      2.047350\n",
       "min     -1.000000\n",
       "25%      0.954243\n",
       "50%      1.431364\n",
       "75%      1.799341\n",
       "max      2.999957\n",
       "Name: weight, dtype: float64"
      ]
     },
     "metadata": {},
     "output_type": "display_data"
    },
    {
     "data": {
      "image/png": "[encoded data removed]",
      "text/plain": [
       "<Figure size 432x288 with 1 Axes>"
      ]
     },
     "metadata": {},
     "output_type": "display_data"
    }
   ],
   "source": [
    "# 有些时候 观察的是数据比例或者百分比的差异\n",
    "\n",
    "#研究精灵的体重\n",
    "# bins = np.arange(0,pokemon['weight'].max()+40,40)\n",
    "\n",
    "#使用对数作为组范围  计算出体重 \n",
    "bins = 10 ** np.arange(-1,3+0.1,0.1)\n",
    "\n",
    "plt.hist(data = pokemon ,x = 'weight',bins = bins);\n",
    "#少数精灵快达到一吨 坐标转换  xscale\n",
    "\n",
    "\n",
    "#这时 发现结果单峰\n",
    "\n",
    "\n",
    "#修改刻度 \n",
    "ticks = [0.1,0.316,1,3.16,10,31.6,100,316,1000]\n",
    "labels = ['{}'.format(v) for v in ticks]\n",
    "\n",
    "#参数是字符串 变换形式  log对数转换\n",
    "plt.xscale('log')\n",
    "plt.xticks(ticks,labels)\n",
    "\n",
    "# 计算 1og10  -1到 3\n",
    "display(np.log10(pokemon['weight'].describe()))"
   ]
  },
  {
   "cell_type": "code",
   "execution_count": null,
   "metadata": {},
   "outputs": [],
   "source": [
    "'''\n",
    "    总结 \n",
    "        对于定量变量 最常用的图表是直方图\n",
    "        \n",
    "        对于定性变量 最常用的是柱状图\n",
    "\n",
    "\n",
    "'''"
   ]
  }
 ],
 "metadata": {
  "kernelspec": {
   "display_name": "Python [conda env:anaconda3]",
   "language": "python",
   "name": "conda-env-anaconda3-py"
  },
  "language_info": {
   "codemirror_mode": {
    "name": "ipython",
    "version": 3
   },
   "file_extension": ".py",
   "mimetype": "text/x-python",
   "name": "python",
   "nbconvert_exporter": "python",
   "pygments_lexer": "ipython3",
   "version": "3.6.6"
  }
 },
 "nbformat": 4,
 "nbformat_minor": 2
}
