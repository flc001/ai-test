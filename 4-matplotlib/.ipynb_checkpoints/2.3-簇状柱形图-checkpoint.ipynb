{
 "cells": [
  {
   "cell_type": "code",
   "execution_count": 1,
   "metadata": {},
   "outputs": [],
   "source": [
    "import numpy as np\n",
    "import pandas as pd\n",
    "import matplotlib.pyplot as plt\n",
    "import seaborn as sb#seaborn另一个简写是sns\n",
    "\n",
    "%matplotlib inline"
   ]
  },
  {
   "cell_type": "code",
   "execution_count": 15,
   "metadata": {},
   "outputs": [
    {
     "name": "stdout",
     "output_type": "stream",
     "text": [
      "(3929, 20)\n"
     ]
    },
    {
     "data": {
      "text/html": [
       "<div>\n",
       "<style scoped>\n",
       "    .dataframe tbody tr th:only-of-type {\n",
       "        vertical-align: middle;\n",
       "    }\n",
       "\n",
       "    .dataframe tbody tr th {\n",
       "        vertical-align: top;\n",
       "    }\n",
       "\n",
       "    .dataframe thead th {\n",
       "        text-align: right;\n",
       "    }\n",
       "</style>\n",
       "<table border=\"1\" class=\"dataframe\">\n",
       "  <thead>\n",
       "    <tr style=\"text-align: right;\">\n",
       "      <th></th>\n",
       "      <th>id</th>\n",
       "      <th>make</th>\n",
       "      <th>model</th>\n",
       "      <th>year</th>\n",
       "      <th>VClass</th>\n",
       "      <th>drive</th>\n",
       "      <th>trans</th>\n",
       "      <th>fuelType</th>\n",
       "      <th>cylinders</th>\n",
       "      <th>displ</th>\n",
       "      <th>pv2</th>\n",
       "      <th>pv4</th>\n",
       "      <th>city</th>\n",
       "      <th>UCity</th>\n",
       "      <th>highway</th>\n",
       "      <th>UHighway</th>\n",
       "      <th>comb</th>\n",
       "      <th>co2</th>\n",
       "      <th>feScore</th>\n",
       "      <th>ghgScore</th>\n",
       "    </tr>\n",
       "  </thead>\n",
       "  <tbody>\n",
       "    <tr>\n",
       "      <th>0</th>\n",
       "      <td>32204</td>\n",
       "      <td>Nissan</td>\n",
       "      <td>GT-R</td>\n",
       "      <td>2013</td>\n",
       "      <td>Subcompact Cars</td>\n",
       "      <td>All-Wheel Drive</td>\n",
       "      <td>Automatic (AM6)</td>\n",
       "      <td>Premium Gasoline</td>\n",
       "      <td>6</td>\n",
       "      <td>3.8</td>\n",
       "      <td>79</td>\n",
       "      <td>0</td>\n",
       "      <td>16.4596</td>\n",
       "      <td>20.2988</td>\n",
       "      <td>22.5568</td>\n",
       "      <td>30.1798</td>\n",
       "      <td>18.7389</td>\n",
       "      <td>471</td>\n",
       "      <td>4</td>\n",
       "      <td>4</td>\n",
       "    </tr>\n",
       "    <tr>\n",
       "      <th>1</th>\n",
       "      <td>32205</td>\n",
       "      <td>Volkswagen</td>\n",
       "      <td>CC</td>\n",
       "      <td>2013</td>\n",
       "      <td>Compact Cars</td>\n",
       "      <td>Front-Wheel Drive</td>\n",
       "      <td>Automatic (AM-S6)</td>\n",
       "      <td>Premium Gasoline</td>\n",
       "      <td>4</td>\n",
       "      <td>2.0</td>\n",
       "      <td>94</td>\n",
       "      <td>0</td>\n",
       "      <td>21.8706</td>\n",
       "      <td>26.9770</td>\n",
       "      <td>31.0367</td>\n",
       "      <td>42.4936</td>\n",
       "      <td>25.2227</td>\n",
       "      <td>349</td>\n",
       "      <td>6</td>\n",
       "      <td>6</td>\n",
       "    </tr>\n",
       "    <tr>\n",
       "      <th>2</th>\n",
       "      <td>32206</td>\n",
       "      <td>Volkswagen</td>\n",
       "      <td>CC</td>\n",
       "      <td>2013</td>\n",
       "      <td>Compact Cars</td>\n",
       "      <td>Front-Wheel Drive</td>\n",
       "      <td>Automatic (S6)</td>\n",
       "      <td>Premium Gasoline</td>\n",
       "      <td>6</td>\n",
       "      <td>3.6</td>\n",
       "      <td>94</td>\n",
       "      <td>0</td>\n",
       "      <td>17.4935</td>\n",
       "      <td>21.2000</td>\n",
       "      <td>26.5716</td>\n",
       "      <td>35.1000</td>\n",
       "      <td>20.6716</td>\n",
       "      <td>429</td>\n",
       "      <td>5</td>\n",
       "      <td>5</td>\n",
       "    </tr>\n",
       "    <tr>\n",
       "      <th>3</th>\n",
       "      <td>32207</td>\n",
       "      <td>Volkswagen</td>\n",
       "      <td>CC 4motion</td>\n",
       "      <td>2013</td>\n",
       "      <td>Compact Cars</td>\n",
       "      <td>All-Wheel Drive</td>\n",
       "      <td>Automatic (S6)</td>\n",
       "      <td>Premium Gasoline</td>\n",
       "      <td>6</td>\n",
       "      <td>3.6</td>\n",
       "      <td>94</td>\n",
       "      <td>0</td>\n",
       "      <td>16.9415</td>\n",
       "      <td>20.5000</td>\n",
       "      <td>25.2190</td>\n",
       "      <td>33.5000</td>\n",
       "      <td>19.8774</td>\n",
       "      <td>446</td>\n",
       "      <td>5</td>\n",
       "      <td>5</td>\n",
       "    </tr>\n",
       "    <tr>\n",
       "      <th>4</th>\n",
       "      <td>32208</td>\n",
       "      <td>Chevrolet</td>\n",
       "      <td>Malibu eAssist</td>\n",
       "      <td>2013</td>\n",
       "      <td>Midsize Cars</td>\n",
       "      <td>Front-Wheel Drive</td>\n",
       "      <td>Automatic (S6)</td>\n",
       "      <td>Regular Gasoline</td>\n",
       "      <td>4</td>\n",
       "      <td>2.4</td>\n",
       "      <td>0</td>\n",
       "      <td>95</td>\n",
       "      <td>24.7726</td>\n",
       "      <td>31.9796</td>\n",
       "      <td>35.5340</td>\n",
       "      <td>51.8816</td>\n",
       "      <td>28.6813</td>\n",
       "      <td>310</td>\n",
       "      <td>8</td>\n",
       "      <td>8</td>\n",
       "    </tr>\n",
       "  </tbody>\n",
       "</table>\n",
       "</div>"
      ],
      "text/plain": [
       "      id        make           model  year           VClass  \\\n",
       "0  32204      Nissan            GT-R  2013  Subcompact Cars   \n",
       "1  32205  Volkswagen              CC  2013     Compact Cars   \n",
       "2  32206  Volkswagen              CC  2013     Compact Cars   \n",
       "3  32207  Volkswagen      CC 4motion  2013     Compact Cars   \n",
       "4  32208   Chevrolet  Malibu eAssist  2013     Midsize Cars   \n",
       "\n",
       "               drive              trans          fuelType  cylinders  displ  \\\n",
       "0    All-Wheel Drive    Automatic (AM6)  Premium Gasoline          6    3.8   \n",
       "1  Front-Wheel Drive  Automatic (AM-S6)  Premium Gasoline          4    2.0   \n",
       "2  Front-Wheel Drive     Automatic (S6)  Premium Gasoline          6    3.6   \n",
       "3    All-Wheel Drive     Automatic (S6)  Premium Gasoline          6    3.6   \n",
       "4  Front-Wheel Drive     Automatic (S6)  Regular Gasoline          4    2.4   \n",
       "\n",
       "   pv2  pv4     city    UCity  highway  UHighway     comb  co2  feScore  \\\n",
       "0   79    0  16.4596  20.2988  22.5568   30.1798  18.7389  471        4   \n",
       "1   94    0  21.8706  26.9770  31.0367   42.4936  25.2227  349        6   \n",
       "2   94    0  17.4935  21.2000  26.5716   35.1000  20.6716  429        5   \n",
       "3   94    0  16.9415  20.5000  25.2190   33.5000  19.8774  446        5   \n",
       "4    0   95  24.7726  31.9796  35.5340   51.8816  28.6813  310        8   \n",
       "\n",
       "   ghgScore  \n",
       "0         4  \n",
       "1         6  \n",
       "2         5  \n",
       "3         5  \n",
       "4         8  "
      ]
     },
     "execution_count": 15,
     "metadata": {},
     "output_type": "execute_result"
    }
   ],
   "source": [
    "fuel_econ = pd.read_csv('./data/fuel_econ.csv')\n",
    "#燃油效率的数据集 记录了3929辆轿车的数据\n",
    "#生产年份2013-2018\n",
    "print(fuel_econ.shape)\n",
    "fuel_econ.head()"
   ]
  },
  {
   "cell_type": "code",
   "execution_count": 26,
   "metadata": {},
   "outputs": [
    {
     "data": {
      "image/png": "[encoded data removed]",
      "text/plain": [
       "<Figure size 432x288 with 2 Axes>"
      ]
     },
     "metadata": {},
     "output_type": "display_data"
    }
   ],
   "source": [
    "'''\n",
    "    研究两个分类变量之间的关系 \n",
    "    \n",
    "    不能用简单的位置编码了\n",
    "    x轴表示变量的类别 y轴 表示数量统计\n",
    "    \n",
    "'''\n",
    "#这里使用了pandas的函数 astype Vclass 转换成有序的分类类型\n",
    "# 微型车 小型车 紧凑型车 中型车 大型车\n",
    "sedan_classes = ['Minicompact Cars','Subcompact Cars','Compact Cars','Midsize Cars','Large Cars']\n",
    "\n",
    "vclasses = pd.api.types.CategoricalDtype(ordered = True,categories = sedan_classes)\n",
    "fuel_econ['VClass'] = fuel_econ['VClass'].astype(vclasses)\n",
    "\n",
    "\n",
    "# 车辆类型 和 车辆传动系统类型的关系\n",
    "\n",
    "# Automatic (AM6)变成 Automatic   lambda  x  x就是 每一个fuel_econ['trans']的值\n",
    "fuel_econ['trans_type'] = fuel_econ['trans'].apply(lambda x: x.split()[0])\n",
    "\n",
    "ct_counts = fuel_econ.groupby(['VClass','trans_type']).size()\n",
    "#Automatic自动挡 Manual 手动挡\n",
    "\n",
    "#使用reset_index转换成 dataFrame\n",
    "ct_counts = ct_counts.reset_index(name = 'count')\n",
    "\n",
    "# 最后 用 pivot重新安排数据 以车辆类型为行 传动系统类型为列\n",
    "ct_counts = ct_counts.pivot(index = 'VClass',columns = 'trans_type',values = 'count')\n",
    "\n",
    "sb.heatmap(\n",
    "    ct_counts,\n",
    "    annot = True,#在单元格上标明统计值\n",
    "    fmt = 'd'#确保所有的数量统计都是十进制的 \n",
    ");\n",
    "#从颜色上看 除了自动比手动更流行 看不出什么"
   ]
  },
  {
   "cell_type": "code",
   "execution_count": 46,
   "metadata": {},
   "outputs": [
    {
     "data": {
      "text/plain": [
       "(array([0, 1, 2, 3, 4]), <a list of 5 Text xticklabel objects>)"
      ]
     },
     "execution_count": 46,
     "metadata": {},
     "output_type": "execute_result"
    },
    {
     "data": {
      "image/png": "[encoded data removed]",
      "text/plain": [
       "<Figure size 432x288 with 1 Axes>"
      ]
     },
     "metadata": {},
     "output_type": "display_data"
    }
   ],
   "source": [
    "# 上节 用seaborn和 countplot生成单变量的柱状图\n",
    "ax = sb.countplot(\n",
    "    data = fuel_econ,\n",
    "    x = 'VClass',\n",
    "    hue = 'trans_type'#要拆分成多个柱形  表示不同的传动系统s\n",
    ")\n",
    "'''\n",
    "loc \n",
    "0 2左上角  \n",
    "1 右上角\n",
    "3 左下\n",
    "4 右下\n",
    "5 偏右居中\n",
    "6 偏左居中\n",
    "8 偏下居中\n",
    "9 偏上居中\n",
    "10 居中\n",
    "\n",
    "ncol 1 从上往下\n",
    "2 从左往右\n",
    "\n",
    "'''\n",
    "#l\n",
    "ax.legend(\n",
    "    loc = 8,\n",
    "    ncol = 1,\n",
    "    framealpha = 1, \n",
    "    title = 'trans_type'\n",
    ")\n",
    "plt.xticks(rotation = 15)"
   ]
  },
  {
   "cell_type": "markdown",
   "metadata": {},
   "source": [
    "##  分面"
   ]
  },
  {
   "cell_type": "code",
   "execution_count": 51,
   "metadata": {},
   "outputs": [
    {
     "data": {
      "text/plain": [
       "<seaborn.axisgrid.FacetGrid at 0x1a1d0947f0>"
      ]
     },
     "execution_count": 51,
     "metadata": {},
     "output_type": "execute_result"
    },
    {
     "data": {
      "image/png": "[encoded data removed]",
      "text/plain": [
       "<Figure size 648x432 with 5 Axes>"
      ]
     },
     "metadata": {},
     "output_type": "display_data"
    }
   ],
   "source": [
    "'''\n",
    "    可以把簇状柱形图的数据拆成多个子集来看\n",
    "    将其想成一系列并排放置的单变量柱形图\n",
    "    \n",
    "    把数据分成多个子集 并用同一种图表分别绘制的技术 成为分面\n",
    "    \n",
    "    分面可以用于任意类型的图表 不止局限于柱状图\n",
    "    \n",
    "    小提琴图可以看做一组按分类变量类型进行分面的直方图\n",
    "    \n",
    "    \n",
    "    分面擅长将很复杂的模式 分解成多个较小的部分\n",
    "    \n",
    "    \n",
    "'''\n",
    "\n",
    "# 根据定性变量拆分数据 从而对定量变量的直方图进行分面处理\n",
    "\n",
    "\n",
    "\n",
    "bins = np.arange(12,58+2,2)\n",
    "\n",
    "\n",
    "#会根据 VClass有多少种值 来分成多少类\n",
    "g = sb.FacetGrid(\n",
    "    data = fuel_econ,\n",
    "    col = 'VClass',\n",
    "    col_wrap = 3,#一行几个\n",
    "    #y轴的刻度只在第一个分面上出现 而且其他的都会以第一个为基准\n",
    "    sharey = False#每一个分面都有自己的刻度 可能不相同 所有 直方图会有一些变化\n",
    "    \n",
    "    #这样更方便 观察各类别的分布差异 \n",
    "    # 但是无法比较各组的总频率了 一不小心  就会认为各类别的车辆差不多\n",
    "    \n",
    ")\n",
    "\n",
    "#使用FacetGrid 的函数 map  \n",
    "#第一个参数是绘图函数  使用hist 也就是直方图\n",
    "# 第二个参数是要绘制的x轴的变量 直接写 comb 不要写x = 'comb' 否则无法按子组进行分面\n",
    "g.map(plt.hist,'comb',bins = bins)\n",
    "#可以看到 所有的数据都按照hist默认分成10组 但每个分面的坐标轴范围是一样的\n"
   ]
  },
  {
   "cell_type": "markdown",
   "metadata": {},
   "source": [
    "## 调整单变量图形"
   ]
  },
  {
   "cell_type": "code",
   "execution_count": 54,
   "metadata": {},
   "outputs": [
    {
     "name": "stderr",
     "output_type": "stream",
     "text": [
      "/anaconda3/lib/python3.6/site-packages/scipy/stats/stats.py:1713: FutureWarning: Using a non-tuple sequence for multidimensional indexing is deprecated; use `arr[tuple(seq)]` instead of `arr[seq]`. In the future this will be interpreted as an array index, `arr[np.array(seq)]`, which will result either in an error or a different result.\n",
      "  return np.add.reduce(sorted[indexer] * weights, axis=axis) / sumval\n"
     ]
    },
    {
     "data": {
      "text/plain": [
       "Text(0,0.5,'Avg Combined ')"
      ]
     },
     "execution_count": 54,
     "metadata": {},
     "output_type": "execute_result"
    },
    {
     "data": {
      "image/png": "[encoded data removed]",
      "text/plain": [
       "<Figure size 432x288 with 1 Axes>"
      ]
     },
     "metadata": {},
     "output_type": "display_data"
    }
   ],
   "source": [
    "'''\n",
    "    除了分面 还有一种方法 也可以用单变量图标描述双变量的关系\n",
    "    \n",
    "    无论是直方图还是柱状图 纵轴表示的都是数据点的的频率\n",
    "    \n",
    "    如果不表示频率 而表示第二个变量的平均值\n",
    "    \n",
    "    比如游戏比赛数据 rush defense economy 结果只有1和0\n",
    "    箱线图和小提琴图都会发挥不了作用\n",
    "    \n",
    "    实际上 创建一个 展示中值的直方图\n",
    "    能让我们快速了解哪种策略管用\n",
    "'''\n",
    "\n",
    "# 要绘制定量变量与定性变量的关系 还可以用柱状图\n",
    "# 纵轴不在表示数量统计 而表示 第二个变量的平均值\n",
    "base_color = sb.color_palette()[0]\n",
    "\n",
    "#pointplot不想看到下线 0 5 z这些隐藏 变成折线图\n",
    "sb.barplot(\n",
    "    data = fuel_econ, \n",
    "    x = 'VClass', y = 'comb',\n",
    "    color = base_color,\n",
    "    errwidth = 0,#不显示误差线\n",
    "    ci = 'sd'#数据点的标准差  显示一根线\n",
    "    #linestyles = \"\" 绘制的是名义变量 设置成空字符串 折线就消失了\n",
    ");\n",
    "\n",
    "\n",
    "\n",
    "plt.xticks(rotation = 15)\n",
    "plt.ylabel('Avg Combined ')#平均值\n",
    "\n",
    "#y轴的下线为 0 柱形上的黑线表示平均值的不确定程度\n",
    "\n",
    "#由于我们有很多数据 所以误差线很短 不想要误差线 将errwidth = 0"
   ]
  },
  {
   "cell_type": "markdown",
   "metadata": {},
   "source": [
    "## 折线图"
   ]
  },
  {
   "cell_type": "code",
   "execution_count": 64,
   "metadata": {},
   "outputs": [
    {
     "data": {
      "text/plain": [
       "array([0.6, 0.8, 1. , 1.2, 1.4, 1.6, 1.8, 2. , 2.2, 2.4, 2.6, 2.8, 3. ,\n",
       "       3.2, 3.4, 3.6, 3.8, 4. , 4.2, 4.4, 4.6, 4.8, 5. , 5.2, 5.4, 5.6,\n",
       "       5.8, 6. , 6.2, 6.4, 6.6, 6.8, 7. ])"
      ]
     },
     "metadata": {},
     "output_type": "display_data"
    },
    {
     "data": {
      "text/plain": [
       "array([0.7, 0.9, 1.1, 1.3, 1.5, 1.7, 1.9, 2.1, 2.3, 2.5, 2.7, 2.9, 3.1,\n",
       "       3.3, 3.5, 3.7, 3.9, 4.1, 4.3, 4.5, 4.7, 4.9, 5.1, 5.3, 5.5, 5.7,\n",
       "       5.9, 6.1, 6.3, 6.5, 6.7, 6.9])"
      ]
     },
     "metadata": {},
     "output_type": "display_data"
    },
    {
     "data": {
      "text/plain": [
       "Text(0,0.5,'Avg Combined Fuel Eff (mpg) ')"
      ]
     },
     "execution_count": 64,
     "metadata": {},
     "output_type": "execute_result"
    },
    {
     "data": {
      "image/png": "[encoded data removed]",
      "text/plain": [
       "<Figure size 432x288 with 1 Axes>"
      ]
     },
     "metadata": {},
     "output_type": "display_data"
    }
   ],
   "source": [
    "'''\n",
    "    折线图以折线 表示两个定量变量之间的关系\n",
    "    y轴表示的是变量的平均值 而非数量统计\n",
    "    \n",
    "    比起柱状图 折线图强调两点\n",
    "    1.我们对相对变化更感兴趣 折线图的y轴不一定从0开始\n",
    "    2.折线图强调了x轴各值的联系\n",
    "    \n",
    "    如果x轴的是名义变量 那就不适合用折线图\n",
    "    折线图明确的体现了相邻值的联系及值随时间发展情况\n",
    "    这类随时间变化而变化的值的折线图 叫做时间序列图\n",
    "'''\n",
    "\n",
    "#pointplot擅长总结定量变量和定性变量之间的关系\n",
    "\n",
    "#但要总结两个定量变量的关系 就要用别的函数\n",
    "\n",
    "#假设两个变量是燃油燃油效率和发动机排量 要使用matplotlib的errorbar\n",
    "\n",
    "\n",
    "\n",
    "#设置组边界和中心 对排量数据进行汇总 用中心支 来准确汇总数据点\n",
    "bins_e = np.arange(0.6,7+0.2,0.2)\n",
    "\n",
    "display(bins_e)\n",
    "bins_c = bins_e[:-1]+0.1\n",
    "display(bins_c)\n",
    "\n",
    "\n",
    "#函数会连成线\n",
    "# plt.errorbar(data = fuel_econ,x = 'displ',y = 'comb')\n",
    "# plt.xticks(rotation = 15)\n",
    "# plt.ylabel('Avg Combined Fuel Eff (mpg) ')#燃油效率 加仓\n",
    "\n",
    "#得到一堆乱七八糟的线 matplotlib直接把每对x和y值 \n",
    "# 按其在DataFrame 中出现的先后顺序连起来了 没有进行合理的排序\n",
    "\n",
    "\n",
    "#使用pandas的cut函数 来确定各数据点对于哪一组\n",
    "displ_binned = pd.cut(\n",
    "    fuel_econ['displ'],#切片出来的序列   进行划分的一维数组\n",
    "    bins_e,#组集合\n",
    "    include_lowest = True,#用于确保等于平均值的值  include_lowest:是否包含左端点\n",
    ")\n",
    "\n",
    "display(displ_binned)\n",
    "\n",
    "#给排量组分组 然后取每组的数据点的平均值\n",
    "comb_mean = fuel_econ['comb'].groupby(displ_binned).mean()\n",
    "\n",
    "#使用误差线函数 计算每一组燃油效率的标准差 并用yerr绘制出来\n",
    "comb_std =  fuel_econ['comb'].groupby(displ_binned).std()\n",
    "\n",
    "\n",
    "\n",
    "#再次绘制图标\n",
    "\n",
    "plt.errorbar(x = bins_c,y = comb_mean,yerr = comb_std)\n",
    "plt.xticks(rotation = 15)\n",
    "plt.ylabel('Avg Combined Fuel Eff (mpg) ')#燃油效率 加仓\n",
    "\n"
   ]
  },
  {
   "cell_type": "code",
   "execution_count": null,
   "metadata": {},
   "outputs": [],
   "source": []
  }
 ],
 "metadata": {
  "kernelspec": {
   "display_name": "Python [conda env:anaconda3]",
   "language": "python",
   "name": "conda-env-anaconda3-py"
  },
  "language_info": {
   "codemirror_mode": {
    "name": "ipython",
    "version": 3
   },
   "file_extension": ".py",
   "mimetype": "text/x-python",
   "name": "python",
   "nbconvert_exporter": "python",
   "pygments_lexer": "ipython3",
   "version": "3.6.6"
  }
 },
 "nbformat": 4,
 "nbformat_minor": 2
}
