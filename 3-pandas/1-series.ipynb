{
 "cells": [
  {
   "cell_type": "markdown",
   "metadata": {},
   "source": [
    "# Pandas的数据结构"
   ]
  },
  {
   "cell_type": "code",
   "execution_count": 7,
   "metadata": {},
   "outputs": [
    {
     "data": {
      "text/plain": [
       "'\\n    大量的库和一些标志的数据模型 提供了高效的操作大型数据\\n    集所需的工具\\n    excel打开一个500mb的文件 时间很长 可能打不开\\n    但是可以通过pandas读取数据 功能强大 \\n    2g的csv文件也能读取 \\n    \\n    pandas有两个非常重要的类\\n    Series和DataFrame\\n'"
      ]
     },
     "execution_count": 7,
     "metadata": {},
     "output_type": "execute_result"
    }
   ],
   "source": [
    "import pandas as pd\n",
    "from pandas import Series,DataFrame\n",
    "import numpy as np\n",
    "import matplotlib.pyplot as plt\n",
    "#pandas 专门用于数据分析  \n",
    "#数据分析三剑客 numpy series matplotlib\n",
    "'''\n",
    "    大量的库和一些标志的数据模型 提供了高效的操作大型数据\n",
    "    集所需的工具\n",
    "    excel打开一个500mb的文件 时间很长 可能打不开\n",
    "    但是可以通过pandas读取数据 功能强大 \n",
    "    2g的csv文件也能读取 \n",
    "    \n",
    "    pandas有两个非常重要的类\n",
    "    Series和DataFrame\n",
    "'''\n"
   ]
  },
  {
   "cell_type": "markdown",
   "metadata": {},
   "source": [
    "# 1.Series"
   ]
  },
  {
   "cell_type": "code",
   "execution_count": 13,
   "metadata": {},
   "outputs": [
    {
     "data": {
      "text/plain": [
       "瓦里安     1\n",
       "奥蕾莉亚    2\n",
       "吉安娜     3\n",
       "卡德加     7\n",
       "泰兰德     0\n",
       "dtype: int64"
      ]
     },
     "execution_count": 13,
     "metadata": {},
     "output_type": "execute_result"
    }
   ],
   "source": [
    "#series类似于一位数组 类似ndarray\n",
    "#value 一组数据(ndarray类型)\n",
    "#index 相关数据索引\n",
    "nd = np.array([1,2,3,7,0])\n",
    "nd[2]\n",
    "#series是针对于ndarray一个升级 你想把它弄成什么就是什么\n",
    "\n",
    "#series的创建 两种方式\n",
    "\n",
    "#列表或者numpy的数组创建 \n",
    "s = Series(nd,index = ['瓦里安','奥蕾莉亚','吉安娜','卡德加','泰兰德'])#前面自动把索引输出了 设置index指定索引\n",
    "# s.index = list('abcde')\n",
    "s\n",
    "\n"
   ]
  },
  {
   "cell_type": "code",
   "execution_count": 16,
   "metadata": {},
   "outputs": [],
   "source": [
    "# s = Series(np.random.randint(0,10,size = (5,2)),index=['瓦里安','奥蕾莉亚','吉安娜','卡德加','泰兰德'])\n",
    "#Data must be 1-dimensional 数据必须是一维的 存数据必须是一维的  \n",
    "#Series中存放的数据必须是一维的\n",
    "# s"
   ]
  },
  {
   "cell_type": "markdown",
   "metadata": {},
   "source": [
    "特别的，由ndarray创建的是引用 不是副本 \n",
    "\n",
    "对Series元素改变也会改变原来的ndarray对象中的元素 list没有这种情况"
   ]
  },
  {
   "cell_type": "code",
   "execution_count": 17,
   "metadata": {},
   "outputs": [
    {
     "data": {
      "text/plain": [
       "a    1\n",
       "b    2\n",
       "c    4\n",
       "d    8\n",
       "dtype: int64"
      ]
     },
     "execution_count": 17,
     "metadata": {},
     "output_type": "execute_result"
    }
   ],
   "source": [
    "#可以给列表 也可以给numpy的数组\n",
    "\n",
    "#字典来进行创建\n",
    "s2 = Series({'a':1,'b':2,'c':4,'d':8})\n",
    "s2\n"
   ]
  },
  {
   "cell_type": "markdown",
   "metadata": {},
   "source": [
    "### series的索引和切片\n",
    "\n",
    "1.使用index的元素进行索引\n",
    "\n",
    "2.使用.loc[] 推荐"
   ]
  },
  {
   "cell_type": "code",
   "execution_count": 20,
   "metadata": {},
   "outputs": [
    {
     "data": {
      "text/plain": [
       "a    0.282047\n",
       "b    0.849435\n",
       "c    0.130016\n",
       "d    0.161140\n",
       "dtype: float64"
      ]
     },
     "execution_count": 20,
     "metadata": {},
     "output_type": "execute_result"
    }
   ],
   "source": [
    "'''\n",
    "显式索引 \n",
    "1.使用index的元素进行索引\n",
    "2.使用.loc[] 推荐 loc不能给找这样的对象 索引值是abcde... 0不在这个里面\n",
    "\n",
    "隐式索引\n",
    "1.使用整数作为索引值  可以直接使用数字操作 \n",
    "2.使用iloc[]  iloc[0]\n",
    "'''\n",
    "s = Series(np.random.random(10),index = list('abcdefghij'))\n",
    "#loc是location的意思 通过位置来获取数据\n",
    "s.loc['c']\n",
    "\n",
    "#切片\n",
    "s.loc['a':'d']\n",
    "\n",
    "\n"
   ]
  },
  {
   "cell_type": "code",
   "execution_count": 24,
   "metadata": {},
   "outputs": [
    {
     "data": {
      "text/plain": [
       "(10,)"
      ]
     },
     "metadata": {},
     "output_type": "display_data"
    },
    {
     "data": {
      "text/plain": [
       "10"
      ]
     },
     "metadata": {},
     "output_type": "display_data"
    },
    {
     "data": {
      "text/plain": [
       "Index(['a', 'b', 'c', 'd', 'e', 'f', 'g', 'h', 'i', 'j'], dtype='object')"
      ]
     },
     "metadata": {},
     "output_type": "display_data"
    },
    {
     "data": {
      "text/plain": [
       "array([0.28204703, 0.84943451, 0.13001584, 0.16113977, 0.09226553,\n",
       "       0.08018545, 0.81938077, 0.66660819, 0.9677688 , 0.44091923])"
      ]
     },
     "metadata": {},
     "output_type": "display_data"
    }
   ],
   "source": [
    "#Series有 shape size index valuess\n",
    "\n",
    "display(s.shape,s.size,s.index,s.values)\n",
    "#Index(['a', 'b', 'c', 'd', 'e', 'f', 'g', 'h', 'i', 'j'], dtype='object')\n",
    "\n",
    "#series的value值 就是一个ndarray 包含关系 升级的关系\n",
    "#有了索引之后更加方便 \n",
    "\n",
    "#array([0.28204703, 0.84943451, 0.13001584, 0.16113977, 0.09226553,0.08018545, 0.81938077, 0.66660819, 0.9677688 , 0.44091923])\n",
    "\n",
    "#Series是对ndarray的升级 dataframe是对series的升级  前者包含后者\n"
   ]
  },
  {
   "cell_type": "code",
   "execution_count": 30,
   "metadata": {},
   "outputs": [
    {
     "data": {
      "text/plain": [
       "float"
      ]
     },
     "metadata": {},
     "output_type": "display_data"
    },
    {
     "data": {
      "text/plain": [
       "NoneType"
      ]
     },
     "metadata": {},
     "output_type": "display_data"
    },
    {
     "data": {
      "text/plain": [
       "3"
      ]
     },
     "execution_count": 30,
     "metadata": {},
     "output_type": "execute_result"
    }
   ],
   "source": [
    "# df = pd.read_csv()\n",
    "#dateFrame里面 取出来的是series  可以用type()查看\n",
    "\n",
    "#索引没有对应值 出现NaN not a number的情况 \n",
    "s = Series([1,2,None,np.nan,False],index = list('abcde'))\n",
    "s#c d是NaN e是False\n",
    "\n",
    "#虽然nan None结果都是NaN 但是 None == np.nan不相等\n",
    "\n",
    "\n",
    "display(type(np.nan),type(None))\n",
    "\n",
    "#s里面的值是可以相加的 NaN和False被当做0\n",
    "s.sum()\n",
    "\n",
    "#numpy里面的ndarray是不能加这样的数据的 \n",
    "\n"
   ]
  },
  {
   "cell_type": "code",
   "execution_count": 33,
   "metadata": {},
   "outputs": [
    {
     "data": {
      "text/plain": [
       "a    False\n",
       "b    False\n",
       "c     True\n",
       "d     True\n",
       "e    False\n",
       "dtype: bool"
      ]
     },
     "metadata": {},
     "output_type": "display_data"
    },
    {
     "data": {
      "text/plain": [
       "a     True\n",
       "b     True\n",
       "c    False\n",
       "d    False\n",
       "e     True\n",
       "dtype: bool"
      ]
     },
     "metadata": {},
     "output_type": "display_data"
    }
   ],
   "source": [
    "#pd.isnull() pd.notnull()   结果为布尔值\n",
    "display(s.isnull(),s.notnull())\n",
    "s3 = s.notnull()"
   ]
  },
  {
   "cell_type": "code",
   "execution_count": 35,
   "metadata": {},
   "outputs": [
    {
     "data": {
      "text/plain": [
       "a        1\n",
       "b        2\n",
       "e    False\n",
       "dtype: object"
      ]
     },
     "metadata": {},
     "output_type": "display_data"
    },
    {
     "data": {
      "text/plain": [
       "a        1\n",
       "b        2\n",
       "c     None\n",
       "d      NaN\n",
       "e    False\n",
       "Name: abc123, dtype: object"
      ]
     },
     "execution_count": 35,
     "metadata": {},
     "output_type": "execute_result"
    }
   ],
   "source": [
    "#s和s3都是series \n",
    "display(s[s3])#如果为真就取出来 false就不管\n",
    "\n",
    "#Series对象本身及实例都有一个name属性\n",
    "#s是没有name的\n",
    "s.name = 'abc123'\n",
    "s#会发现下面 Name: abc123, dtype: object\n",
    "#作用 区分  在dataFrame中用于区分 在DateFrame 是列名\n"
   ]
  },
  {
   "cell_type": "code",
   "execution_count": 37,
   "metadata": {},
   "outputs": [
    {
     "data": {
      "text/plain": [
       "a     11\n",
       "b     12\n",
       "c    NaN\n",
       "d    NaN\n",
       "e     10\n",
       "Name: abc123, dtype: object"
      ]
     },
     "metadata": {},
     "output_type": "display_data"
    },
    {
     "data": {
      "text/plain": [
       "a    101\n",
       "b    102\n",
       "c    100\n",
       "d    100\n",
       "e    100\n",
       "Name: abc123, dtype: object"
      ]
     },
     "metadata": {},
     "output_type": "display_data"
    }
   ],
   "source": [
    "display(s+10)#NaN没办法进行增加\n",
    "\n",
    "#如果想让NaN进行加法运算 调用add函数\n",
    "display(s.add(100,fill_value=0))#fill_value 替换掉NaN\n",
    "\n",
    "\n"
   ]
  },
  {
   "cell_type": "markdown",
   "metadata": {},
   "source": [
    "### Series之间的运算"
   ]
  },
  {
   "cell_type": "code",
   "execution_count": 39,
   "metadata": {},
   "outputs": [
    {
     "data": {
      "text/plain": [
       "0     NaN\n",
       "1     NaN\n",
       "2     8.0\n",
       "3    11.0\n",
       "4     NaN\n",
       "5     NaN\n",
       "dtype: float64"
      ]
     },
     "execution_count": 39,
     "metadata": {},
     "output_type": "execute_result"
    }
   ],
   "source": [
    "s1 = Series([2,4,7,9],index = [0,1,2,3])\n",
    "s2 = Series([1,2,3,4],index = [2,3,4,5])\n",
    "\n",
    "s1+s2#只有2和3相加 任何数和NaN运算结果都是NaN\n",
    "#有索引值 强制加上索引值 \n",
    "#如果像要保留所有的index 需要函数 +是 python中的加号\n",
    "s1.add(s2,fill_value=0)#然后就能运算了\n",
    "\n",
    "#和None相加会报错\n"
   ]
  }
 ],
 "metadata": {
  "kernelspec": {
   "display_name": "Python [conda env:anaconda3]",
   "language": "python",
   "name": "conda-env-anaconda3-py"
  },
  "language_info": {
   "codemirror_mode": {
    "name": "ipython",
    "version": 3
   },
   "file_extension": ".py",
   "mimetype": "text/x-python",
   "name": "python",
   "nbconvert_exporter": "python",
   "pygments_lexer": "ipython3",
   "version": "3.6.6"
  }
 },
 "nbformat": 4,
 "nbformat_minor": 2
}
